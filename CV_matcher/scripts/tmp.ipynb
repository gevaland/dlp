{
 "cells": [
  {
   "cell_type": "code",
   "execution_count": 6,
   "metadata": {},
   "outputs": [],
   "source": [
    "import random\n",
    "import string\n",
    "import os"
   ]
  },
  {
   "cell_type": "code",
   "execution_count": 7,
   "metadata": {},
   "outputs": [],
   "source": [
    "for x in range(100):\n",
    "    character_len = random.randint(100, 1000)\n",
    "    sentence = \"\".join(\n",
    "        random.choice(string.ascii_letters) for i in range(character_len)\n",
    "    )\n",
    "    with open(\n",
    "        os.path.join(\n",
    "            \"/home/mike/python_files/dlp/CV_matcher/fast_api/storage/jobs\",\n",
    "            str(x) + \".txt\",\n",
    "        ),\n",
    "        \"w\",\n",
    "    ) as f:\n",
    "        print(sentence, file=f)"
   ]
  },
  {
   "cell_type": "code",
   "execution_count": null,
   "metadata": {},
   "outputs": [],
   "source": []
  }
 ],
 "metadata": {
  "kernelspec": {
   "display_name": "openmmlab",
   "language": "python",
   "name": "python3"
  },
  "language_info": {
   "codemirror_mode": {
    "name": "ipython",
    "version": 3
   },
   "file_extension": ".py",
   "mimetype": "text/x-python",
   "name": "python",
   "nbconvert_exporter": "python",
   "pygments_lexer": "ipython3",
   "version": "3.8.18"
  }
 },
 "nbformat": 4,
 "nbformat_minor": 2
}
